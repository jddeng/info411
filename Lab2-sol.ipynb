{
 "cells": [
  {
   "cell_type": "markdown",
   "metadata": {
    "deletable": true,
    "editable": true
   },
   "source": [
    "# INFO411 Lab 2 - Clustering"
   ]
  },
  {
   "cell_type": "markdown",
   "metadata": {
    "deletable": true,
    "editable": true
   },
   "source": [
    "## Part 1"
   ]
  },
  {
   "cell_type": "code",
   "execution_count": 1,
   "metadata": {
    "collapsed": false,
    "deletable": true,
    "editable": true
   },
   "outputs": [],
   "source": [
    "import numpy as np\n",
    "import pylab as pl\n",
    "%matplotlib inline"
   ]
  },
  {
   "cell_type": "code",
   "execution_count": 3,
   "metadata": {
    "collapsed": false,
    "deletable": true,
    "editable": true
   },
   "outputs": [
    {
     "data": {
      "text/plain": [
       "[<matplotlib.lines.Line2D at 0x10a39cbd0>]"
      ]
     },
     "execution_count": 3,
     "metadata": {},
     "output_type": "execute_result"
    },
    {
     "data": {
      "image/png": "[encoded data removed]",
      "text/plain": [
       "<matplotlib.figure.Figure at 0x10a39cd10>"
      ]
     },
     "metadata": {},
     "output_type": "display_data"
    }
   ],
   "source": [
    "d1 = np.random.randn(100)+2\n",
    "d2 = np.random.randn(100)+8\n",
    "pl.plot(d1,'g+')\n",
    "pl.plot(d2,'bx')"
   ]
  },
  {
   "cell_type": "code",
   "execution_count": 4,
   "metadata": {
    "collapsed": false,
    "deletable": true,
    "editable": true
   },
   "outputs": [],
   "source": [
    "data=np.concatenate((d1,d2),axis=0)\n",
    "data=np.random.permutation(data)\n",
    "nrow=len(data)"
   ]
  },
  {
   "cell_type": "code",
   "execution_count": 9,
   "metadata": {
    "collapsed": false,
    "deletable": true,
    "editable": true
   },
   "outputs": [],
   "source": [
    "memb1=np.random.randint(0,2,nrow) # random initialization of membership\n",
    "memb2=1-memb1    # membership to Cluster 2"
   ]
  },
  {
   "cell_type": "code",
   "execution_count": 10,
   "metadata": {
    "collapsed": false,
    "deletable": true,
    "editable": true
   },
   "outputs": [
    {
     "name": "stdout",
     "output_type": "stream",
     "text": [
      "5.09354344693 4.94019892397\n",
      "7.9840369827 2.06197295004\n",
      "7.9840369827 2.06197295004\n",
      "7.9840369827 2.06197295004\n",
      "7.9840369827 2.06197295004\n",
      "7.9840369827 2.06197295004\n",
      "7.9840369827 2.06197295004\n",
      "7.9840369827 2.06197295004\n",
      "7.9840369827 2.06197295004\n",
      "7.9840369827 2.06197295004\n",
      "7.9840369827 2.06197295004\n",
      "7.9840369827 2.06197295004\n",
      "7.9840369827 2.06197295004\n",
      "7.9840369827 2.06197295004\n",
      "7.9840369827 2.06197295004\n",
      "7.9840369827 2.06197295004\n",
      "7.9840369827 2.06197295004\n",
      "7.9840369827 2.06197295004\n",
      "7.9840369827 2.06197295004\n",
      "7.9840369827 2.06197295004\n"
     ]
    }
   ],
   "source": [
    "## Iterate for a number of times and see if convergence is reached. \n",
    "## c1 and c2 are the two cluster centres. \n",
    "## This updates the centres, then membership, and loops around\n",
    "for it in range(20):\n",
    "   c1=sum(data*memb1)/sum(memb1)\n",
    "   c2=sum(data*memb2)/sum(memb2)\n",
    "   # if distance to c1 is smaller it belongs to cluster 1, memb1=1; otherwise memb1=0\n",
    "   memb1=np.less(np.abs(data-c1), np.abs(data-c2)).astype(int)\n",
    "   memb2=1-memb1\n",
    "   print c1,c2"
   ]
  },
  {
   "cell_type": "code",
   "execution_count": 6,
   "metadata": {
    "collapsed": false,
    "deletable": true,
    "editable": true
   },
   "outputs": [
    {
     "data": {
      "text/plain": [
       "[<matplotlib.lines.Line2D at 0x10590b710>]"
      ]
     },
     "execution_count": 6,
     "metadata": {},
     "output_type": "execute_result"
    },
    {
     "data": {
      "image/png": "[encoded data removed]",
      "text/plain": [
       "<matplotlib.figure.Figure at 0x1057552d0>"
      ]
     },
     "metadata": {},
     "output_type": "display_data"
    }
   ],
   "source": [
    "## Display the cluster centers\n",
    "pl.plot(d1,'g+')\n",
    "pl.plot(d2,'bx')\n",
    "pl.plot(nrow/4,c1,'r^')\n",
    "pl.plot(nrow/4,c2,'r^')"
   ]
  },
  {
   "cell_type": "markdown",
   "metadata": {
    "deletable": true,
    "editable": true
   },
   "source": [
    "#### Q: Does the algorithm work? Comment on the results:\n",
    "\n",
    "**Answer**: Yes it seems to work well, with new centres located around the \"theoretical\" values of 8.00 and 2.00.\n",
    "\n",
    "\n"
   ]
  },
  {
   "cell_type": "markdown",
   "metadata": {
    "deletable": true,
    "editable": true
   },
   "source": [
    "<b>Task 1</b>. Suppose there is an outlier data point, d1[80]=200. "
   ]
  },
  {
   "cell_type": "code",
   "execution_count": 11,
   "metadata": {
    "collapsed": true,
    "deletable": true,
    "editable": true
   },
   "outputs": [],
   "source": [
    "# for simplicity just do this through \"data\"\n",
    "data[80]=200"
   ]
  },
  {
   "cell_type": "markdown",
   "metadata": {
    "deletable": true,
    "editable": true
   },
   "source": [
    "Repeat the experiement above and comment on the results:\n",
    "\n",
    "After re-running the clustering process, the new centres drift upward under the influence of the outlier. There are a minor drift for the further cluster centred around \"2.x\", and a major drift for the closer cluster centre (from 8.0 to 10.x).\n",
    "\n",
    "This suggests the k-means algorithm is very sensitive to outliers. "
   ]
  },
  {
   "cell_type": "code",
   "execution_count": 12,
   "metadata": {
    "collapsed": false,
    "deletable": true,
    "editable": true
   },
   "outputs": [
    {
     "name": "stdout",
     "output_type": "stream",
     "text": [
      "7.3020773826 4.97064498769\n",
      "10.0789038554 2.20566197865\n",
      "10.0789038554 2.20566197865\n",
      "10.0789038554 2.20566197865\n",
      "10.0789038554 2.20566197865\n",
      "10.0789038554 2.20566197865\n",
      "10.0789038554 2.20566197865\n",
      "10.0789038554 2.20566197865\n",
      "10.0789038554 2.20566197865\n",
      "10.0789038554 2.20566197865\n",
      "10.0789038554 2.20566197865\n",
      "10.0789038554 2.20566197865\n",
      "10.0789038554 2.20566197865\n",
      "10.0789038554 2.20566197865\n",
      "10.0789038554 2.20566197865\n",
      "10.0789038554 2.20566197865\n",
      "10.0789038554 2.20566197865\n",
      "10.0789038554 2.20566197865\n",
      "10.0789038554 2.20566197865\n",
      "10.0789038554 2.20566197865\n"
     ]
    }
   ],
   "source": [
    "memb1=np.random.randint(0,2,nrow)\n",
    "memb2=1-memb1    # membership to Cluster 2\n",
    "## Iterate for a number of times and see if convergence is reached. \n",
    "## c1 and c2 are the two cluster centres. \n",
    "## This updates the centres, then membership, and loops around\n",
    "for it in range(20):\n",
    "   c1=sum(data*memb1)/sum(memb1)\n",
    "   c2=sum(data*memb2)/sum(memb2)\n",
    "   # if distance to c1 is smaller it belongs to cluster 1, memb1=1; otherwise memb1=0\n",
    "   memb1=np.less(np.abs(data-c1), np.abs(data-c2)).astype(int)\n",
    "   memb2=1-memb1\n",
    "   print c1,c2"
   ]
  },
  {
   "cell_type": "markdown",
   "metadata": {
    "deletable": true,
    "editable": true
   },
   "source": [
    "**Task 1b**. Using the fuzzy c-means scheme (with r=2) to decide membership and repeat the experiment. "
   ]
  },
  {
   "cell_type": "markdown",
   "metadata": {
    "collapsed": false,
    "deletable": true,
    "editable": true
   },
   "source": [
    "A: The following implementation contains a small modification on how to calculate membership:"
   ]
  },
  {
   "cell_type": "code",
   "execution_count": 13,
   "metadata": {
    "collapsed": false,
    "deletable": true,
    "editable": true,
    "scrolled": false
   },
   "outputs": [
    {
     "name": "stdout",
     "output_type": "stream",
     "text": [
      "5.01966613524 7.1885469088\n",
      "4.03688678739 7.55281692556\n",
      "3.51397496781 8.27170053045\n",
      "3.36218691443 8.68695233453\n",
      "3.39360979869 8.82762701628\n",
      "3.43005180808 8.85194273076\n",
      "3.44332048986 8.84827811284\n",
      "3.44526381537 8.843929346\n",
      "3.44465119193 8.84237885622\n",
      "3.44415659696 8.84217090826\n",
      "3.44400284816 8.84225204519\n",
      "3.44398930921 8.84231202345\n",
      "3.44400052978 8.84232990348\n",
      "3.44400710978 8.84233120237\n",
      "3.44400881014 8.84232977346\n",
      "3.44400883495 8.84232898341\n",
      "3.4440086546 8.84232878846\n",
      "3.44400857055 8.84232878963\n",
      "3.444008553 8.84232881212\n",
      "3.44400855457 8.84232882211\n",
      "3.44400855725 8.84232882409\n",
      "3.44400855828 8.84232882385\n",
      "3.44400855844 8.84232882352\n",
      "3.4440085584 8.8423288234\n",
      "3.44400855836 8.84232882338\n",
      "3.44400855835 8.84232882338\n",
      "3.44400855835 8.84232882339\n",
      "3.44400855835 8.84232882339\n",
      "3.44400855835 8.84232882339\n",
      "3.44400855835 8.84232882339\n"
     ]
    }
   ],
   "source": [
    "# fuzzy c-means \n",
    "memb1=np.random.randint(0,2,nrow)\n",
    "memb2=1-memb1\n",
    "offs=1e-6\n",
    "## Iterate for a number of times and see if convergence is reached. \n",
    "## c1 and c2 are the two cluster centres. \n",
    "## This updates the centres, then membership, and loops around\n",
    "for it in range(30):\n",
    "    c1=sum(data*memb1)/sum(memb1)\n",
    "    c2=sum(data*memb2)/sum(memb2)\n",
    "    memb1=np.power(data-c1+offs,-2.0)/(np.power(data-c1+offs,-2.0)+np.power(data-c2+offs,-2.0))   \n",
    "    memb2=1-memb1\n",
    "    print c1,c2"
   ]
  },
  {
   "cell_type": "markdown",
   "metadata": {
    "deletable": true,
    "editable": true
   },
   "source": [
    "**Comments:** While one might think that the \"soft\" version of membership in FCM may help reduce the sensitivity to outliers, in this case there seems no significant improvement on the \"drifts\" of cluster centres. In fact, both centres are affected by the outlier! Since the outlier is almost of the same distance to both centres, it's likely that it receives a 50% membership either way! So fuzzy is worse than crisp in this case (in the k-means version we had *just* one cluster centre drifted away due to the outlier). \n",
    "\n",
    "In general, FCM may help to produce better vector quantization prototypes, but as we have seen its ability to deal with outliers is certainly not guaranteed. It may be better off by just removing outliers *before* carrying out clustering. "
   ]
  },
  {
   "cell_type": "markdown",
   "metadata": {
    "deletable": true,
    "editable": true
   },
   "source": [
    "## Part 2"
   ]
  },
  {
   "cell_type": "raw",
   "metadata": {
    "deletable": true,
    "editable": true
   },
   "source": [
    "We can extend the code and do the clustering using EM instead. "
   ]
  },
  {
   "cell_type": "code",
   "execution_count": 56,
   "metadata": {
    "collapsed": false,
    "deletable": true,
    "editable": true
   },
   "outputs": [],
   "source": [
    "# Regenerate data; here d2 becomes a larger Gaussian blob\n",
    "d1 = np.random.randn(100)+2\n",
    "d2 = np.random.randn(100)*1.5+8\n",
    "data=np.concatenate((d1,d2),axis=0)\n",
    "data=np.random.permutation(data)\n",
    "# followed by a simple EM implementation..."
   ]
  },
  {
   "cell_type": "code",
   "execution_count": 58,
   "metadata": {
    "collapsed": false,
    "deletable": true,
    "editable": true
   },
   "outputs": [
    {
     "name": "stdout",
     "output_type": "stream",
     "text": [
      "it= 0 : 5.07132945131 / 3.40340403632 || 5.19742226707 / 3.32557676227\n",
      "it= 1 : 5.07787034263 / 3.37125157339 || 5.07526896263 / 3.13578108617\n",
      "it= 2 : 5.15896721057 / 3.40176045343 || 4.96948255035 / 3.07977697099\n",
      "it= 3 : 5.26371418412 / 3.41935612515 || 4.86383351086 / 3.04987247301\n",
      "it= 4 : 5.37381356968 / 3.42745954334 || 4.75657372307 / 3.02565028406\n",
      "it= 5 : 5.48464418452 / 3.4293729907 || 4.64779519422 / 3.00109236038\n",
      "it= 6 : 5.59537393658 / 3.42636285627 || 4.53718349113 / 2.97402200329\n",
      "it= 7 : 5.70638096775 / 3.41877484507 || 4.42380478522 / 2.94330282294\n",
      "it= 8 : 5.81865637375 / 3.40648704795 || 4.30612133829 / 2.90788538269\n",
      "it= 9 : 5.93366573913 / 3.3889963667 || 4.18192460388 / 2.8663767902\n",
      "it= 10 : 6.05334780403 / 3.36533980674 || 4.04814173868 / 2.81669237268\n",
      "it= 11 : 6.18018299107 / 3.33389663689 || 3.90047807335 / 2.75556842864\n",
      "it= 12 : 6.31729552998 / 3.29203631355 || 3.73282723759 / 2.67770600084\n",
      "it= 13 : 6.46849835394 / 3.23552514481 || 3.53637772558 / 2.5741444732\n",
      "it= 14 : 6.63798112659 / 3.15760130475 || 3.29855641466 / 2.42910439412\n",
      "it= 15 : 6.82871213025 / 3.04794663016 || 3.00331471191 / 2.21435222527\n",
      "it= 16 : 7.03717290242 / 2.89381064815 || 2.64090415859 / 1.88491481615\n",
      "it= 17 : 7.24169578869 / 2.69358757725 || 2.25453585476 / 1.42318711693\n",
      "it= 18 : 7.39196721682 / 2.49785953137 || 1.98843931013 / 1.03284380918\n",
      "it= 19 : 7.43353825105 / 2.39892828308 || 1.86185101045 / 0.856394207294\n"
     ]
    }
   ],
   "source": [
    "## Random initialization again. \n",
    "memb1=np.random.randint(0,2,nrow)\n",
    "memb2=1-memb1\n",
    "## now the iterations\n",
    "for it in range(20):\n",
    "    # update centres\n",
    "    c1=sum(memb1*data)/sum(memb1)\n",
    "    c2=sum(memb2*data)/sum(memb2)\n",
    "    # update 'spread' - the variations\n",
    "    s1=sum(memb1*(data-c1)**2)/sum(memb1)\n",
    "    s2=sum(memb2*(data-c2)**2)/sum(memb2)\n",
    "    # print the center and std\n",
    "    print 'it=',it,':', c1,'/',np.sqrt(s1),'||',c2,'/',np.sqrt(s2)\n",
    "    # re-calculate memberships using the center and std values\n",
    "    memb1=np.exp(-(data-c1)**2/s1/2)\n",
    "    memb2=np.exp(-(data-c2)**2/s2/2)\n",
    "    # normalise\n",
    "    memb1/=(memb1+memb2)\n",
    "    memb2/=(memb1+memb2)"
   ]
  },
  {
   "cell_type": "code",
   "execution_count": 59,
   "metadata": {
    "collapsed": false,
    "deletable": true,
    "editable": true
   },
   "outputs": [
    {
     "name": "stdout",
     "output_type": "stream",
     "text": [
      "it= 0 : 2.15353015558 / 1.19073223277 || 8.36362537143 / 1.41576815363\n",
      "it= 1 : 2.10160586529 / 1.14328680576 || 8.3782604825 / 1.41199674217\n",
      "it= 2 : 2.08780684984 / 1.12715280539 || 8.36900764752 / 1.41844704752\n",
      "it= 3 : 2.08102854139 / 1.11974400246 || 8.36279466939 / 1.42367122608\n",
      "it= 4 : 2.07734527658 / 1.11581046509 || 8.35910911851 / 1.42688861192\n",
      "it= 5 : 2.07528130397 / 1.11362653765 || 8.35696912286 / 1.42877982102\n",
      "it= 6 : 2.07411027179 / 1.11239309568 || 8.35573328935 / 1.42987793157\n",
      "it= 7 : 2.07344178542 / 1.1116907378 || 8.35502097917 / 1.43051263012\n",
      "it= 8 : 2.07305890816 / 1.1112890284 || 8.35461078024 / 1.43087869345\n",
      "it= 9 : 2.07283920353 / 1.1110587037 || 8.35437466759 / 1.43108958229\n",
      "it= 10 : 2.07271299683 / 1.11092645785 || 8.35423879458 / 1.43121099925\n",
      "it= 11 : 2.07264045453 / 1.11085046461 || 8.35416061658 / 1.43128087907\n",
      "it= 12 : 2.07259874333 / 1.11080677586 || 8.35411563856 / 1.43132108934\n",
      "it= 13 : 2.0725747549 / 1.11078165234 || 8.35408976265 / 1.43134422447\n",
      "it= 14 : 2.07256095737 / 1.11076720267 || 8.35407487661 / 1.43135753449\n",
      "it= 15 : 2.07255302085 / 1.11075889128 || 8.35406631302 / 1.43136519166\n",
      "it= 16 : 2.07254845549 / 1.11075411035 || 8.35406138662 / 1.4313695967\n",
      "it= 17 : 2.07254582928 / 1.11075136017 || 8.35405855262 / 1.4313721308\n",
      "it= 18 : 2.07254431853 / 1.11074977812 || 8.35405692232 / 1.43137358859\n",
      "it= 19 : 2.07254344947 / 1.11074886803 || 8.35405598446 / 1.43137442722\n"
     ]
    }
   ],
   "source": [
    "# Another go: First round clustering - k-means, as initialization for EM\n",
    "memb1=np.random.randint(0,2,nrow)\n",
    "memb2=1-memb1    # membership to Cluster 2\n",
    "## Iterate for a number of times and see if convergence is reached. \n",
    "## c1 and c2 are the two cluster centres. \n",
    "## This updates the centres, then membership, and loops around\n",
    "for it in range(20):\n",
    "   c1=sum(data*memb1)/sum(memb1)\n",
    "   c2=sum(data*memb2)/sum(memb2)\n",
    "   # if distance to c1 is smaller it belongs to cluster 1, memb1=1; otherwise memb1=0\n",
    "   memb1=(np.sign(np.abs(data-c2)-np.abs(data-c1))+1)/2\n",
    "   memb2=1-memb1\n",
    "# Now 2nd round clustering: EM\n",
    "for it in range(20):\n",
    "    # update centres\n",
    "    c1=sum(memb1*data)/sum(memb1)\n",
    "    c2=sum(memb2*data)/sum(memb2)\n",
    "    # update 'spread' - the variations\n",
    "    s1=sum(memb1*(data-c1)**2)/sum(memb1)\n",
    "    s2=sum(memb2*(data-c2)**2)/sum(memb2)\n",
    "    # print the center and std\n",
    "    print 'it=',it,':', c1,'/',np.sqrt(s1),'||',c2,'/',np.sqrt(s2)\n",
    "    # re-calculate memberships using the center and std values\n",
    "    memb1=np.exp(-(data-c1)**2/s1/2)\n",
    "    memb2=np.exp(-(data-c2)**2/s2/2)\n",
    "    # normalise\n",
    "    memb1/=(memb1+memb2)\n",
    "    memb2/=(memb1+memb2)"
   ]
  },
  {
   "cell_type": "markdown",
   "metadata": {
    "deletable": true,
    "editable": true
   },
   "source": [
    "**Answer:** \n",
    "\n",
    "The EM with pure random initialization only works only *occasionally*. I may be quite unlucky, but most of times the two clusters were heavily overlapped (close centres, large spreads).\n",
    "\n",
    "EM using k-means for a pre-run, however, turns out to be much helpful. Note not only the centres are quite accurately estimated, but also their relevant spreads (1.1 for 1.0, and 1.4 for 1.5). "
   ]
  },
  {
   "cell_type": "markdown",
   "metadata": {
    "deletable": true,
    "editable": true
   },
   "source": [
    "## Part 3"
   ]
  },
  {
   "cell_type": "markdown",
   "metadata": {
    "deletable": true,
    "editable": true
   },
   "source": [
    "Nothing to report. "
   ]
  },
  {
   "cell_type": "markdown",
   "metadata": {
    "deletable": true,
    "editable": true
   },
   "source": [
    "## Part 4"
   ]
  },
  {
   "cell_type": "markdown",
   "metadata": {
    "deletable": true,
    "editable": true
   },
   "source": [
    "### DBSCAN"
   ]
  },
  {
   "cell_type": "code",
   "execution_count": 2,
   "metadata": {
    "collapsed": false,
    "deletable": true,
    "editable": true
   },
   "outputs": [],
   "source": [
    "import numpy as np\n",
    "from sklearn.cluster import DBSCAN\n",
    "from sklearn import metrics\n",
    "from sklearn.datasets.samples_generator import make_blobs\n",
    "from sklearn.preprocessing import StandardScaler"
   ]
  },
  {
   "cell_type": "raw",
   "metadata": {
    "deletable": true,
    "editable": true
   },
   "source": [
    "We use sklearn's data generators to make three blobs:"
   ]
  },
  {
   "cell_type": "code",
   "execution_count": 3,
   "metadata": {
    "collapsed": false,
    "deletable": true,
    "editable": true
   },
   "outputs": [],
   "source": [
    "centers = [[1, 1], [-1, -1], [1, -1]]\n",
    "X, labels_true = make_blobs(n_samples=750, centers=centers, cluster_std=0.4,\n",
    "                            random_state=0)\n",
    "X = StandardScaler().fit_transform(X)"
   ]
  },
  {
   "cell_type": "raw",
   "metadata": {
    "deletable": true,
    "editable": true
   },
   "source": [
    "Suppose we set Eps to 0.3, and the minimum number of neighbours needed for a data point to become core points is 10. The following cluster the dataset using DBSCAN, predict cluster labels for all data points, and mark out core points:"
   ]
  },
  {
   "cell_type": "code",
   "execution_count": 4,
   "metadata": {
    "collapsed": false,
    "deletable": true,
    "editable": true
   },
   "outputs": [],
   "source": [
    "db = DBSCAN(eps=0.27, min_samples=10).fit(X)\n",
    "labels = db.labels_\n",
    "core_samples_mask = np.zeros_like(db.labels_, dtype=bool)\n",
    "core_samples_mask[db.core_sample_indices_] = True"
   ]
  },
  {
   "cell_type": "raw",
   "metadata": {
    "deletable": true,
    "editable": true
   },
   "source": [
    "The fit() function will learn from the data, and label all data points. Note  DBSCAN will mark out core points, border points, and noise points. Noise points are not clustered, so in sklearn's implementation it takes a label of -1 (while others take 0, 1, ...). The number of clusters can be found by:"
   ]
  },
  {
   "cell_type": "code",
   "execution_count": 5,
   "metadata": {
    "collapsed": false,
    "deletable": true,
    "editable": true
   },
   "outputs": [
    {
     "name": "stdout",
     "output_type": "stream",
     "text": [
      "Estimated number of clusters: 3\n"
     ]
    }
   ],
   "source": [
    "# Number of clusters in labels, ignoring noise if present.\n",
    "n_clusters_ = len(set(labels)) - (1 if -1 in labels else 0)\n",
    "print('Estimated number of clusters: %d' % n_clusters_)"
   ]
  },
  {
   "cell_type": "markdown",
   "metadata": {
    "deletable": true,
    "editable": true
   },
   "source": [
    "### Visualization"
   ]
  },
  {
   "cell_type": "raw",
   "metadata": {
    "deletable": true,
    "editable": true
   },
   "source": [
    "Using the learning outcome, we can visualize the clustering results. The following code colours the data points according to their cluster IDs, with core points displayed by large markers. Noisy points are displayed in black:"
   ]
  },
  {
   "cell_type": "code",
   "execution_count": 6,
   "metadata": {
    "collapsed": false,
    "deletable": true,
    "editable": true
   },
   "outputs": [
    {
     "data": {
      "image/png": "[encoded data removed]",
      "text/plain": [
       "<matplotlib.figure.Figure at 0x107e36dd0>"
      ]
     },
     "metadata": {},
     "output_type": "display_data"
    }
   ],
   "source": [
    "import matplotlib.pyplot as plt\n",
    "\n",
    "# Black removed and is used for noise instead.\n",
    "unique_labels = set(labels)\n",
    "colors = plt.cm.Spectral(np.linspace(0, 1, len(unique_labels)))\n",
    "for k, col in zip(unique_labels, colors):\n",
    "    if k == -1:\n",
    "        # Black used for noise.\n",
    "        col = 'k'\n",
    "\n",
    "    class_member_mask = (labels == k)\n",
    "\n",
    "    # plot core points \n",
    "    xy = X[class_member_mask & core_samples_mask]\n",
    "    plt.plot(xy[:, 0], xy[:, 1], 'o', markerfacecolor=col,\n",
    "             markeredgecolor='k', markersize=14)\n",
    "    # non-core points\n",
    "    xy = X[class_member_mask & ~core_samples_mask]\n",
    "    plt.plot(xy[:, 0], xy[:, 1], 'o', markerfacecolor=col,\n",
    "             markeredgecolor='k', markersize=6)\n",
    "\n",
    "plt.title('Estimated number of clusters: %d' % n_clusters_)\n",
    "plt.grid('on')"
   ]
  },
  {
   "cell_type": "markdown",
   "metadata": {
    "deletable": true,
    "editable": true
   },
   "source": [
    "### Evaluation"
   ]
  },
  {
   "cell_type": "raw",
   "metadata": {
    "deletable": true,
    "editable": true
   },
   "source": [
    "To evaluate the clustering outcome, there are a number of indeces one can use. Here we take a quick look on Silhouette Score."
   ]
  },
  {
   "cell_type": "markdown",
   "metadata": {
    "deletable": true,
    "editable": true
   },
   "source": [
    "For a data point with a cluster, its Silhouette Coefficient is decided by two scores:\n",
    "- a: The mean distance between a sample and all other points in the same cluster.\n",
    "- b: The mean distance between a sample and all other points in the next nearest cluster.\n",
    "The Silhouette Coefficient $s$ for the data point is then given as:\n",
    "$s = \\displaystyle\\frac{b - a}{max(a, b)}$"
   ]
  },
  {
   "cell_type": "raw",
   "metadata": {
    "deletable": true,
    "editable": true
   },
   "source": [
    "The average Silhouette Coefficient of the overall clustering outcome is reported by:"
   ]
  },
  {
   "cell_type": "code",
   "execution_count": 65,
   "metadata": {
    "collapsed": false,
    "deletable": true,
    "editable": true
   },
   "outputs": [
    {
     "data": {
      "text/plain": [
       "0.60676527169716843"
      ]
     },
     "execution_count": 65,
     "metadata": {},
     "output_type": "execute_result"
    }
   ],
   "source": [
    "metrics.silhouette_score(X, labels, metric='euclidean')"
   ]
  },
  {
   "cell_type": "markdown",
   "metadata": {
    "deletable": true,
    "editable": true
   },
   "source": [
    "The score is bounded between -1 for incorrect clustering and +1 for highly dense clustering. Scores around zero indicate overlapping clusters."
   ]
  },
  {
   "cell_type": "markdown",
   "metadata": {
    "deletable": true,
    "editable": true
   },
   "source": [
    "**Task B**. Parameters play important part in clustering algorithms. How does the setting of Eps affect the clustering outcome? Print out the number of clusters found, and the Silhouette Score when eps takes value from this list: [0.1,0.15,0.2,0.25,0.3,0.35,0.4]."
   ]
  },
  {
   "cell_type": "code",
   "execution_count": 66,
   "metadata": {
    "collapsed": false,
    "deletable": true,
    "editable": true
   },
   "outputs": [
    {
     "name": "stderr",
     "output_type": "stream",
     "text": [
      "/anaconda/lib/python2.7/site-packages/ipykernel/__main__.py:5: DeprecationWarning: assignment will raise an error in the future, most likely because your index result shape does not match the value array shape. You can use `arr.flat[index] = values` to keep the old behaviour.\n"
     ]
    },
    {
     "name": "stdout",
     "output_type": "stream",
     "text": [
      "Eps.=0.100000 N_clusters: 12 SS=-0.365853\n",
      "Eps.=0.150000 N_clusters:  4 SS=0.249893\n",
      "Eps.=0.200000 N_clusters:  3 SS=0.542612\n",
      "Eps.=0.250000 N_clusters:  3 SS=0.601847\n",
      "Eps.=0.300000 N_clusters:  3 SS=0.625525\n",
      "Eps.=0.350000 N_clusters:  2 SS=0.421073\n",
      "Eps.=0.400000 N_clusters:  1 SS=0.061095\n"
     ]
    }
   ],
   "source": [
    "for eps in [0.1,0.15,0.2,0.25,0.3,0.35,0.4]:\n",
    "    db = DBSCAN(eps, min_samples=10).fit(X)\n",
    "    labels = db.labels_\n",
    "    core_samples_mask = np.zeros_like(db.labels_, dtype=bool)\n",
    "    core_samples_mask[db.core_sample_indices_] = Truelabels = db.labels_\n",
    "    # Number of clusters in labels, ignoring noise if present.\n",
    "    n_clusters_ = len(set(labels)) - (1 if -1 in labels else 0)\n",
    "    print ('Eps.=%f' %eps),\n",
    "    print('N_clusters: %2d' % n_clusters_),\n",
    "    print('SS=%f' % metrics.silhouette_score(X, labels, metric='euclidean'))"
   ]
  },
  {
   "cell_type": "markdown",
   "metadata": {
    "deletable": true,
    "editable": true
   },
   "source": [
    "**Comment on your findings: **\n",
    "\n",
    "When the Eps value increases within the given range, it is easy to see some clear trends: the number of clusters drops (sure, as bigger Eps tends to include more points for a core, so clusters grow bigger, and become less), and the silouette score climbs up but then quickly goes down, reflecting the change on clusters' compactness. \n",
    "I tried a number of values of min_samples, from 5 to 14, the outcome is quite consistent: 3 clusters always give the highest score. Outside this range I haven't been so lucky.\n",
    "\n",
    "This raises the question: Given a dataset, how can we find the right values for these parameters - Eps and min_samples? I haven't seen any good sources on this, but my feeling is having some visual inspection of the pair-wise distance histogram may help. If there are two peaks on the distance histogram, these may indicate roughly the distance range between points in proximity, and between points between clusters, and an Eps set between the two peaks may be useful. I hope this (partially) answers one of our review questions for the Clustering Lecture :-)  \n",
    "\n",
    "I leave some empirical evidence here as food for thoughts. "
   ]
  },
  {
   "cell_type": "code",
   "execution_count": 25,
   "metadata": {
    "collapsed": false
   },
   "outputs": [
    {
     "data": {
      "image/png": "[encoded data removed]",
      "text/plain": [
       "<matplotlib.figure.Figure at 0x10b3e1990>"
      ]
     },
     "metadata": {},
     "output_type": "display_data"
    }
   ],
   "source": [
    "## Generate stats about the nearest-neighbour distances\n",
    "distlist=[]\n",
    "n=len(X)\n",
    "for i in range(n):\n",
    "    dist=[]\n",
    "    for j in range(i+1,n):\n",
    "        dist.append(np.linalg.norm(X[i,:]-X[j,:]))\n",
    "    if len(dist)>0: mindist=min(dist)\n",
    "    distlist.append(mindist)\n",
    "hist,bins,patch=pl.hist(distlist,bins=200,normed=True)"
   ]
  },
  {
   "cell_type": "code",
   "execution_count": 29,
   "metadata": {
    "collapsed": false
   },
   "outputs": [
    {
     "data": {
      "text/plain": [
       "array([  3.26139076,   5.87050337,   8.74052725,  11.61055112,\n",
       "        10.30599481,   7.82733783,   6.3923259 ,   5.47913648,\n",
       "         3.78321329,   4.30503581,   4.82685833,   3.39184639,\n",
       "         1.6959232 ,   2.34820135,   1.82637883,   1.43501194,\n",
       "         1.17410067,   1.56546757,   1.95683446,   0.52182252,\n",
       "         0.52182252,   0.39136689,   1.04364504,   0.52182252,\n",
       "         0.78273378,   0.52182252,   0.39136689,   0.26091126,\n",
       "         0.39136689,   0.26091126,   0.13045563,   0.26091126,\n",
       "         0.26091126,   0.13045563,   0.        ,   0.13045563,\n",
       "         0.26091126,   0.26091126,   0.39136689,   0.52182252,\n",
       "         0.        ,   0.        ,   0.        ,   0.13045563,\n",
       "         0.13045563,   0.26091126,   0.        ,   0.        ,\n",
       "         0.13045563,   0.        ])"
      ]
     },
     "execution_count": 29,
     "metadata": {},
     "output_type": "execute_result"
    }
   ],
   "source": [
    "# take a look of the first few histogram elements and look for valleys\n",
    "hist[:50]"
   ]
  },
  {
   "cell_type": "code",
   "execution_count": 31,
   "metadata": {
    "collapsed": false
   },
   "outputs": [
    {
     "data": {
      "text/plain": [
       "0.19598439477118665"
      ]
     },
     "execution_count": 31,
     "metadata": {},
     "output_type": "execute_result"
    }
   ],
   "source": [
    "# there seems to be a big drop from 1.95 to 0.52, at bin number 19. Let's check out the corresponding distance value:\n",
    "bins[19]"
   ]
  },
  {
   "cell_type": "code",
   "execution_count": 32,
   "metadata": {
    "collapsed": false
   },
   "outputs": [
    {
     "data": {
      "text/plain": [
       "88.318461875471371"
      ]
     },
     "execution_count": 32,
     "metadata": {},
     "output_type": "execute_result"
    }
   ],
   "source": [
    "# What is the probablity of having a NN distance smaller than the chosen distance value?\n",
    "np.cumsum(hist)[19]"
   ]
  },
  {
   "cell_type": "markdown",
   "metadata": {},
   "source": [
    "What's shown above is that at the distance threshold 0.1960, we can include 88% of NN pairwise distances. This might indicate that the DBSCAN setting of Eps=0.2 is a reasonable choice. "
   ]
  },
  {
   "cell_type": "markdown",
   "metadata": {
    "deletable": true,
    "editable": true
   },
   "source": [
    "**Task C**. Use the Sklearn K-means function to redo the clustering with k=2, 3, 4, 5. Report the Silhouette Scores.  "
   ]
  },
  {
   "cell_type": "code",
   "execution_count": 69,
   "metadata": {
    "collapsed": false,
    "deletable": true,
    "editable": true
   },
   "outputs": [
    {
     "name": "stdout",
     "output_type": "stream",
     "text": [
      " k: 2 \tSil. Score: 0.518251961809\n",
      "k: 3 \tSil. Score: 0.649607545502\n",
      "k: 4 \tSil. Score: 0.53709763673\n",
      "k: 5 \tSil. Score: 0.404207731708\n",
      "k: 6 \tSil. Score: 0.433722415071\n",
      "k: 7 \tSil. Score: 0.334144539654\n",
      "k: 8 \tSil. Score: 0.342984598906\n",
      "k: 9 \tSil. Score: 0.34661078942\n",
      "k: 10 \tSil. Score: 0.346431237739\n"
     ]
    }
   ],
   "source": [
    "# My code\n",
    "from sklearn.cluster import KMeans\n",
    "for k in range(2,11):\n",
    "    kmeans = KMeans(init='k-means++', n_clusters=k, n_init=1).fit(X)\n",
    "    labels=kmeans.labels_\n",
    "    print 'k:',k,'\\tSil. Score:', metrics.silhouette_score(X, labels, metric='euclidean')"
   ]
  },
  {
   "cell_type": "markdown",
   "metadata": {
    "deletable": true,
    "editable": true
   },
   "source": [
    "**Comment on your findings:**\n",
    "\n",
    "When k (number of clusters specified for k-means) increases from 2 to 10 (yes I tried a bigger range) it is interesting to see that the Silhouette Coefficient quickly climbs to the top (0.650 with k=3), then drops. Note it is not a steady trend but with small fluctuations (k=6, and 9). The best score goes to k=3, which is consistent with the DBSCAN result, and how we generated the data in the first place!\n",
    "\n",
    "By default n_init is set to 10, and K-Means picks the best from 10 initializations. Here, note that I use k-means++ for initialization and set the n_init to 1, and the results have been quite good!\n",
    "\n",
    "Here goes the call for volunteers who would like to take the k-means papers (k-means++, mini batch etc.) for presentation :-)"
   ]
  },
  {
   "cell_type": "markdown",
   "metadata": {
    "deletable": true,
    "editable": true
   },
   "source": [
    "END OF LAB 2.\n",
    "\n",
    "**COMMENTS: **\n",
    "Over all, very well done to all. \n",
    "\n",
    "It's encouraging to see many attempted the fuzzy c-means, with success. Best track records so far for INFO411.  \n",
    "\n",
    "Apart from k-means, FCM, and density-based algorithms such as DBSCAN, there's another important class of clustering algorithms - Spectral Clustering. The best thing about it is that it doesn't mandate any distance metrics (in the sense that k-means assumes Euclidean, and k-medoids implies Manhatten distance). Rather, one can use customly designed distance or similarity measures and plug it in for the algorithm to work (on eigenanalysis of the dissimilarity matrix rather than the data points directly - hence the word \"spectral\"). For more information, please refer to these Sklearn pages:\n",
    "\n",
    "- http://scikit-learn.org/stable/modules/generated/sklearn.cluster.SpectralClustering.html\n",
    "- http://scikit-learn.org/stable/auto_examples/cluster/plot_cluster_comparison.html#example-cluster-plot-cluster-comparison-py\n"
   ]
  },
  {
   "cell_type": "code",
   "execution_count": null,
   "metadata": {
    "collapsed": true,
    "deletable": true,
    "editable": true
   },
   "outputs": [],
   "source": []
  }
 ],
 "metadata": {
  "kernelspec": {
   "display_name": "Python [default]",
   "language": "python",
   "name": "python2"
  },
  "language_info": {
   "codemirror_mode": {
    "name": "ipython",
    "version": 2
   },
   "file_extension": ".py",
   "mimetype": "text/x-python",
   "name": "python",
   "nbconvert_exporter": "python",
   "pygments_lexer": "ipython2",
   "version": "2.7.12"
  }
 },
 "nbformat": 4,
 "nbformat_minor": 0
}
