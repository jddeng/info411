{
 "metadata": {
  "name": "note1.ipynb"
 },
 "nbformat": 3,
 "nbformat_minor": 0,
 "worksheets": [
  {
   "cells": [
    {
     "cell_type": "heading",
     "level": 2,
     "metadata": {},
     "source": [
      "INFO411 Demo 1"
     ]
    },
    {
     "cell_type": "markdown",
     "metadata": {},
     "source": [
      "First experiment with Notebook"
     ]
    },
    {
     "cell_type": "code",
     "collapsed": false,
     "input": [
      "import numpy as np"
     ],
     "language": "python",
     "metadata": {},
     "outputs": [],
     "prompt_number": 23
    },
    {
     "cell_type": "code",
     "collapsed": false,
     "input": [
      "import scipy as sp"
     ],
     "language": "python",
     "metadata": {},
     "outputs": [],
     "prompt_number": 24
    },
    {
     "cell_type": "code",
     "collapsed": false,
     "input": [
      "import pylab as pl"
     ],
     "language": "python",
     "metadata": {},
     "outputs": [],
     "prompt_number": 14
    },
    {
     "cell_type": "code",
     "collapsed": false,
     "input": [
      "t=np.linspace(0,5,100)"
     ],
     "language": "python",
     "metadata": {},
     "outputs": [],
     "prompt_number": 25
    },
    {
     "cell_type": "code",
     "collapsed": false,
     "input": [
      "print t"
     ],
     "language": "python",
     "metadata": {},
     "outputs": [
      {
       "output_type": "stream",
       "stream": "stdout",
       "text": [
        "[ 0.          0.05050505  0.1010101   0.15151515  0.2020202   0.25252525\n",
        "  0.3030303   0.35353535  0.4040404   0.45454545  0.50505051  0.55555556\n",
        "  0.60606061  0.65656566  0.70707071  0.75757576  0.80808081  0.85858586\n",
        "  0.90909091  0.95959596  1.01010101  1.06060606  1.11111111  1.16161616\n",
        "  1.21212121  1.26262626  1.31313131  1.36363636  1.41414141  1.46464646\n",
        "  1.51515152  1.56565657  1.61616162  1.66666667  1.71717172  1.76767677\n",
        "  1.81818182  1.86868687  1.91919192  1.96969697  2.02020202  2.07070707\n",
        "  2.12121212  2.17171717  2.22222222  2.27272727  2.32323232  2.37373737\n",
        "  2.42424242  2.47474747  2.52525253  2.57575758  2.62626263  2.67676768\n",
        "  2.72727273  2.77777778  2.82828283  2.87878788  2.92929293  2.97979798\n",
        "  3.03030303  3.08080808  3.13131313  3.18181818  3.23232323  3.28282828\n",
        "  3.33333333  3.38383838  3.43434343  3.48484848  3.53535354  3.58585859\n",
        "  3.63636364  3.68686869  3.73737374  3.78787879  3.83838384  3.88888889\n",
        "  3.93939394  3.98989899  4.04040404  4.09090909  4.14141414  4.19191919\n",
        "  4.24242424  4.29292929  4.34343434  4.39393939  4.44444444  4.49494949\n",
        "  4.54545455  4.5959596   4.64646465  4.6969697   4.74747475  4.7979798\n",
        "  4.84848485  4.8989899   4.94949495  5.        ]\n"
       ]
      }
     ],
     "prompt_number": 26
    },
    {
     "cell_type": "markdown",
     "metadata": {},
     "source": [
      "This gives - $$x=10sin(t)$$"
     ]
    },
    {
     "cell_type": "code",
     "collapsed": false,
     "input": [
      "x=10*np.sin(t)"
     ],
     "language": "python",
     "metadata": {},
     "outputs": [],
     "prompt_number": 27
    },
    {
     "cell_type": "code",
     "collapsed": false,
     "input": [
      "pl.plot(t,x)"
     ],
     "language": "python",
     "metadata": {},
     "outputs": [
      {
       "output_type": "pyout",
       "prompt_number": 28,
       "text": [
        "[<matplotlib.lines.Line2D at 0x10e071450>]"
       ]
      },
      {
       "output_type": "display_data",
       "png": "[encoded data removed]",
       "text": [
        "<matplotlib.figure.Figure at 0x10d79e790>"
       ]
      }
     ],
     "prompt_number": 28
    },
    {
     "cell_type": "code",
     "collapsed": false,
     "input": [
      "print t"
     ],
     "language": "python",
     "metadata": {},
     "outputs": [
      {
       "output_type": "stream",
       "stream": "stdout",
       "text": [
        "[ 0.          0.05050505  0.1010101   0.15151515  0.2020202   0.25252525\n",
        "  0.3030303   0.35353535  0.4040404   0.45454545  0.50505051  0.55555556\n",
        "  0.60606061  0.65656566  0.70707071  0.75757576  0.80808081  0.85858586\n",
        "  0.90909091  0.95959596  1.01010101  1.06060606  1.11111111  1.16161616\n",
        "  1.21212121  1.26262626  1.31313131  1.36363636  1.41414141  1.46464646\n",
        "  1.51515152  1.56565657  1.61616162  1.66666667  1.71717172  1.76767677\n",
        "  1.81818182  1.86868687  1.91919192  1.96969697  2.02020202  2.07070707\n",
        "  2.12121212  2.17171717  2.22222222  2.27272727  2.32323232  2.37373737\n",
        "  2.42424242  2.47474747  2.52525253  2.57575758  2.62626263  2.67676768\n",
        "  2.72727273  2.77777778  2.82828283  2.87878788  2.92929293  2.97979798\n",
        "  3.03030303  3.08080808  3.13131313  3.18181818  3.23232323  3.28282828\n",
        "  3.33333333  3.38383838  3.43434343  3.48484848  3.53535354  3.58585859\n",
        "  3.63636364  3.68686869  3.73737374  3.78787879  3.83838384  3.88888889\n",
        "  3.93939394  3.98989899  4.04040404  4.09090909  4.14141414  4.19191919\n",
        "  4.24242424  4.29292929  4.34343434  4.39393939  4.44444444  4.49494949\n",
        "  4.54545455  4.5959596   4.64646465  4.6969697   4.74747475  4.7979798\n",
        "  4.84848485  4.8989899   4.94949495  5.        ]\n"
       ]
      }
     ],
     "prompt_number": 30
    },
    {
     "cell_type": "code",
     "collapsed": false,
     "input": [
      "print x"
     ],
     "language": "python",
     "metadata": {},
     "outputs": [
      {
       "output_type": "stream",
       "stream": "stdout",
       "text": [
        "[ 0.          0.50483582  1.0083842   1.50936098  2.00648857  2.49849916\n",
        "  2.98413804  3.46216672  3.93136612  4.39053968  4.8385164   5.27415386\n",
        "  5.69634107  6.10400137  6.49609514  6.87162244  7.22962561  7.56919167\n",
        "  7.88945463  8.18959776  8.46885564  8.72651608  8.96192201  9.17447308\n",
        "  9.36362725  9.52890213  9.66987623  9.78619003  9.87754692  9.94371392\n",
        "  9.98452227  9.99986791  9.98971172  9.95407958  9.89306237  9.80681569\n",
        "  9.69555949  9.55957751  9.39921651  9.21488547  9.00705446  8.7762535\n",
        "  8.52307118  8.24815317  7.95220057  7.63596813  7.3002623   6.94593921\n",
        "  6.57390247  6.18510084  5.78052585  5.36120926  4.92822043  4.48266355\n",
        "  4.02567491  3.55841991  3.08209017  2.59790043  2.10708548  1.610897\n",
        "  1.11060038  0.60747149  0.10279341 -0.40214681 -0.90606147 -1.40766548\n",
        " -1.90567963 -2.39883388 -2.88587059 -3.36554769 -3.83664192 -4.29795187\n",
        " -4.74830111 -5.18654114 -5.61155437 -6.02225691 -6.41760138 -6.79657956\n",
        " -7.15822499 -7.50161539 -7.82587503 -8.13017698 -8.41374521 -8.67585655\n",
        " -8.91584257 -9.13309125 -9.32704856 -9.49721985 -9.64317117 -9.7645303\n",
        " -9.86098774 -9.93229752 -9.97827778 -9.99881125 -9.99384558 -9.96339342\n",
        " -9.90753243 -9.82640508 -9.72021825 -9.58924275]\n"
       ]
      }
     ],
     "prompt_number": 31
    },
    {
     "cell_type": "code",
     "collapsed": false,
     "input": [],
     "language": "python",
     "metadata": {},
     "outputs": []
    }
   ],
   "metadata": {}
  }
 ]
}